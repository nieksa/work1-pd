{
 "cells": [
  {
   "cell_type": "code",
   "id": "initial_id",
   "metadata": {
    "collapsed": true,
    "ExecuteTime": {
     "end_time": "2024-12-26T02:53:08.543163Z",
     "start_time": "2024-12-26T02:53:08.516336Z"
    }
   },
   "source": [
    "import hdf5storage\n",
    "import torch\n",
    "test_y = torch.from_numpy(hdf5storage.loadmat('./data/PDvsNC/datas/test_PDvsNC_y_1.mat')['y'])\n",
    "test_score = torch.from_numpy(hdf5storage.loadmat('./data/PDvsNC/datas/test_PDvsNC_score_1.mat')['score'])\n",
    "print(test_y.shape)\n",
    "print(test_y.dtype)\n",
    "print(test_y.min(), test_y.max())\n",
    "print(test_y[-20:])\n",
    "print(test_score[-20:])"
   ],
   "outputs": [
    {
     "name": "stdout",
     "output_type": "stream",
     "text": [
      "torch.Size([178])\n",
      "torch.int64\n",
      "tensor(0) tensor(1)\n",
      "tensor([1, 0, 1, 1, 0, 1, 0, 1, 1, 1, 1, 1, 1, 1, 1, 1, 1, 1, 1, 1])\n",
      "tensor([[1.0000, 1.0000, 0.6667],\n",
      "        [1.0000, 1.0000, 0.6667],\n",
      "        [1.0000, 1.0000, 0.6667],\n",
      "        [1.0000, 1.0000, 0.6667],\n",
      "        [1.0000, 1.0000, 0.6667],\n",
      "        [1.0000, 1.0000, 0.6667],\n",
      "        [1.0000, 1.0000, 0.6667],\n",
      "        [1.0000, 1.0000, 0.6667],\n",
      "        [1.0000, 1.0000, 0.6667],\n",
      "        [1.0000, 1.0000, 0.6667],\n",
      "        [1.0000, 1.0000, 0.6667],\n",
      "        [1.0000, 1.0000, 0.6667],\n",
      "        [1.0000, 1.0000, 0.6667],\n",
      "        [1.0000, 1.0000, 0.6667],\n",
      "        [1.0000, 1.0000, 0.6667],\n",
      "        [1.0000, 1.0000, 0.6667],\n",
      "        [1.0000, 1.0000, 0.6667],\n",
      "        [1.0000, 1.0000, 0.6667],\n",
      "        [1.0000, 1.0000, 0.6667],\n",
      "        [1.0000, 1.0000, 0.6667]], dtype=torch.float64)\n"
     ]
    }
   ],
   "execution_count": 16
  }
 ],
 "metadata": {
  "kernelspec": {
   "display_name": "Python 3",
   "language": "python",
   "name": "python3"
  },
  "language_info": {
   "codemirror_mode": {
    "name": "ipython",
    "version": 2
   },
   "file_extension": ".py",
   "mimetype": "text/x-python",
   "name": "python",
   "nbconvert_exporter": "python",
   "pygments_lexer": "ipython2",
   "version": "2.7.6"
  }
 },
 "nbformat": 4,
 "nbformat_minor": 5
}
