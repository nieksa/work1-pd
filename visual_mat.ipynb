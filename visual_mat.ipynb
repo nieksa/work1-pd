{
 "cells": [
  {
   "cell_type": "code",
   "id": "initial_id",
   "metadata": {
    "collapsed": true,
    "jupyter": {
     "is_executing": true
    }
   },
   "source": [
    "import hdf5storage\n",
    "import torch\n",
    "test_x = torch.from_numpy(hdf5storage.loadmat('./data/PDvsNC/datas/test_PDvsNC_score_1.mat')['score'])\n",
    "print(test_x.shape)\n",
    "print(test_x.dtype)\n",
    "print(test_x.min(), test_x.max())\n",
    "print(test_x[0])"
   ],
   "outputs": [],
   "execution_count": null
  }
 ],
 "metadata": {
  "kernelspec": {
   "display_name": "Python 3",
   "language": "python",
   "name": "python3"
  },
  "language_info": {
   "codemirror_mode": {
    "name": "ipython",
    "version": 2
   },
   "file_extension": ".py",
   "mimetype": "text/x-python",
   "name": "python",
   "nbconvert_exporter": "python",
   "pygments_lexer": "ipython2",
   "version": "2.7.6"
  }
 },
 "nbformat": 4,
 "nbformat_minor": 5
}
